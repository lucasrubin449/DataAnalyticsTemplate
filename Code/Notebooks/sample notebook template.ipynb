{
 "cells": [
  {
   "cell_type": "markdown",
   "id": "5efb9513-e6d4-40a4-8858-1c39f351ffdf",
   "metadata": {},
   "source": [
    "# Project Name"
   ]
  },
  {
   "cell_type": "markdown",
   "id": "de49a518-025c-41c3-8eac-301ac0cf2af8",
   "metadata": {},
   "source": [
    "**Author:** Luke Rubin\n",
    "**LastModified:** 11-18-2024 (created 11-13-2024)\n",
    "\n",
    "**Description:** Short paragraph explaining this project"
   ]
  },
  {
   "cell_type": "markdown",
   "id": "ba0b4ae5-c2a0-47c4-868a-6b1d272d953f",
   "metadata": {},
   "source": [
    "<br>"
   ]
  },
  {
   "cell_type": "markdown",
   "id": "1f7ccda8-5556-4d6d-b189-61cf30a3e12e",
   "metadata": {},
   "source": [
    "Import Libraries:"
   ]
  },
  {
   "cell_type": "code",
   "execution_count": 5,
   "id": "b41ace0b-c1f8-4418-bf98-cd1e6c6b3aa6",
   "metadata": {},
   "outputs": [],
   "source": [
    "import pandas as pd"
   ]
  },
  {
   "cell_type": "markdown",
   "id": "47eec40c-eb53-423b-8a49-d9898ec7c09b",
   "metadata": {},
   "source": [
    "Load data:"
   ]
  },
  {
   "cell_type": "code",
   "execution_count": 7,
   "id": "649e3c5f-6c23-4441-861d-3c11e07d8259",
   "metadata": {},
   "outputs": [],
   "source": [
    "# Code to read csv file"
   ]
  }
 ],
 "metadata": {
  "kernelspec": {
   "display_name": "Python 3 (ipykernel)",
   "language": "python",
   "name": "python3"
  },
  "language_info": {
   "codemirror_mode": {
    "name": "ipython",
    "version": 3
   },
   "file_extension": ".py",
   "mimetype": "text/x-python",
   "name": "python",
   "nbconvert_exporter": "python",
   "pygments_lexer": "ipython3",
   "version": "3.12.4"
  }
 },
 "nbformat": 4,
 "nbformat_minor": 5
}
